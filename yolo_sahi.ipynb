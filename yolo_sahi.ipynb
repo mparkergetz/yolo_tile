{
 "cells": [
  {
   "cell_type": "markdown",
   "metadata": {},
   "source": [
    "## perform inference using slicing-aided hyper inference"
   ]
  },
  {
   "cell_type": "code",
   "execution_count": 1,
   "metadata": {},
   "outputs": [],
   "source": [
    "from sahi import AutoDetectionModel\n",
    "from sahi.predict import get_prediction\n",
    "from sahi.predict import get_sliced_prediction\n",
    "from sahi.predict import predict"
   ]
  },
  {
   "cell_type": "code",
   "execution_count": null,
   "metadata": {},
   "outputs": [],
   "source": [
    "model_path = \"training_run_2025-02-17_09-53-34/weights/last.pt\"\n",
    "\n",
    "detection_model = AutoDetectionModel.from_pretrained(\n",
    "    model_type='ultralytics',\n",
    "    model_path=model_path,\n",
    "    confidence_threshold=0.3,\n",
    "    device=\"cuda:0\"\n",
    ")\n",
    "\n",
    "image_path = \"jpgs_to_annot/pi1_20240718_130459.jpg\"\n",
    "result = get_sliced_prediction(\n",
    "    image_path,\n",
    "    detection_model,\n",
    "    slice_height=640,\n",
    "    slice_width=640,\n",
    "    overlap_height_ratio=0.25,\n",
    "    overlap_width_ratio=0.25\n",
    ")\n",
    "\n",
    "result.export_visuals(export_dir=\"output_sahi\")"
   ]
  },
  {
   "cell_type": "code",
   "execution_count": null,
   "metadata": {},
   "outputs": [],
   "source": [
    "predict(\n",
    "    model_type=\"ultralytics\",\n",
    "    model_path=model_path,\n",
    "    model_device=\"cuda\", \n",
    "    model_confidence_threshold=0.3,\n",
    "    source=\"jpgs_to_annot\",\n",
    "    slice_height=640,\n",
    "    slice_width=640,\n",
    "    overlap_height_ratio=0.25,\n",
    "    overlap_width_ratio=0.25,\n",
    ")"
   ]
  }
 ],
 "metadata": {
  "kernelspec": {
   "display_name": "yolo11",
   "language": "python",
   "name": "python3"
  },
  "language_info": {
   "codemirror_mode": {
    "name": "ipython",
    "version": 3
   },
   "file_extension": ".py",
   "mimetype": "text/x-python",
   "name": "python",
   "nbconvert_exporter": "python",
   "pygments_lexer": "ipython3",
   "version": "3.12.9"
  }
 },
 "nbformat": 4,
 "nbformat_minor": 2
}
